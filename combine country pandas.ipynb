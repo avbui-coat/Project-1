{
 "cells": [
  {
   "cell_type": "code",
   "execution_count": null,
   "metadata": {},
   "outputs": [],
   "source": [
    "import pandas as pd\n",
    "import csv\n",
    "import numpy as np"
   ]
  },
  {
   "cell_type": "code",
   "execution_count": null,
   "metadata": {},
   "outputs": [],
   "source": [
    "AU_df = pd.read_csv(\"CSV_Output/Australia_top_50_songs.csv\")\n",
    "IN_df = pd.read_csv(\"CSV_Output/India_top_50_songs.csv\")\n",
    "AU_df.head()"
   ]
  },
  {
   "cell_type": "code",
   "execution_count": null,
   "metadata": {},
   "outputs": [],
   "source": [
    "del AU_df[\"Unnamed: 0\"]\n",
    "del IN_df[\"Unnamed: 0\"]"
   ]
  },
  {
   "cell_type": "code",
   "execution_count": null,
   "metadata": {},
   "outputs": [],
   "source": [
    "AU_df.loc[:, 'Country'] = \"Australia\""
   ]
  },
  {
   "cell_type": "code",
   "execution_count": null,
   "metadata": {},
   "outputs": [],
   "source": [
    "IN_df.loc[:, 'Country'] = \"India\""
   ]
  },
  {
   "cell_type": "code",
   "execution_count": null,
   "metadata": {},
   "outputs": [],
   "source": [
    "BA_df = pd.read_csv(\"CSV_Output/Brazil_top_50_songs.csv\")\n",
    "FR_df = pd.read_csv(\"CSV_Output/France_top_50_songs.csv\")\n",
    "HO_df = pd.read_csv(\"CSV_Output/Hong Kong_top_50_songs.csv\")\n",
    "JA_df = pd.read_csv(\"CSV_Output/Japan_top_50_songs.csv\")\n",
    "MA_df = pd.read_csv(\"CSV_Output/Malaysia_top_50_songs.csv\")\n",
    "SA_df = pd.read_csv(\"CSV_Output/South Africa_top_50_songs.csv\")\n",
    "TA_df = pd.read_csv(\"CSV_Output/Taiwan_top_50_songs.csv\")\n",
    "UK_df = pd.read_csv(\"CSV_Output/UK_top_50_songs.csv\")"
   ]
  },
  {
   "cell_type": "code",
   "execution_count": null,
   "metadata": {},
   "outputs": [],
   "source": [
    "del BA_df[\"Unnamed: 0\"]\n",
    "del FR_df[\"Unnamed: 0\"]\n",
    "del HO_df[\"Unnamed: 0\"]\n",
    "del JA_df[\"Unnamed: 0\"]\n",
    "del MA_df[\"Unnamed: 0\"]\n",
    "del SA_df[\"Unnamed: 0\"]\n",
    "del TA_df[\"Unnamed: 0\"]\n",
    "del UK_df[\"Unnamed: 0\"]"
   ]
  },
  {
   "cell_type": "code",
   "execution_count": null,
   "metadata": {},
   "outputs": [],
   "source": [
    "BA_df.loc[:, 'Country'] = \"Brazil\"\n",
    "FR_df.loc[:, 'Country'] = \"France\"\n",
    "HO_df.loc[:, 'Country'] = \"HongKong\"\n",
    "JA_df.loc[:, 'Country'] = \"Japan\"\n",
    "MA_df.loc[:, 'Country'] = \"Malaysia\"\n",
    "SA_df.loc[:, 'Country'] = \"South Africa\"\n",
    "TA_df.loc[:, 'Country'] = \"Taiwan\"\n",
    "UK_df.loc[:, 'Country'] = \"UK\""
   ]
  },
  {
   "cell_type": "code",
   "execution_count": null,
   "metadata": {},
   "outputs": [],
   "source": [
    "US_df = pd.read_csv(\"CSV_Output/US_top_50_songs.csv\")"
   ]
  },
  {
   "cell_type": "code",
   "execution_count": null,
   "metadata": {},
   "outputs": [],
   "source": [
    "del US_df[\"Unnamed: 0\"]"
   ]
  },
  {
   "cell_type": "code",
   "execution_count": null,
   "metadata": {},
   "outputs": [],
   "source": [
    "US_df.loc[:, 'Country'] = \"US\""
   ]
  },
  {
   "cell_type": "code",
   "execution_count": null,
   "metadata": {},
   "outputs": [],
   "source": [
    "AU_IN = pd.merge(AU_df,IN_df,how ='outer')"
   ]
  },
  {
   "cell_type": "code",
   "execution_count": null,
   "metadata": {},
   "outputs": [],
   "source": [
    "BA_FR = pd.merge(BA_df,FR_df,how ='outer')"
   ]
  },
  {
   "cell_type": "code",
   "execution_count": null,
   "metadata": {},
   "outputs": [],
   "source": [
    "HO_JA = pd.merge(HO_df,JA_df,how ='outer')"
   ]
  },
  {
   "cell_type": "code",
   "execution_count": null,
   "metadata": {},
   "outputs": [],
   "source": [
    "MA_SA = pd.merge(MA_df,SA_df,how ='outer')"
   ]
  },
  {
   "cell_type": "code",
   "execution_count": null,
   "metadata": {},
   "outputs": [],
   "source": [
    "TA_UK = pd.merge(TA_df,UK_df,how ='outer')"
   ]
  },
  {
   "cell_type": "code",
   "execution_count": null,
   "metadata": {},
   "outputs": [],
   "source": [
    "US_group1 = pd.merge(AU_IN,US_df,how ='outer')"
   ]
  },
  {
   "cell_type": "code",
   "execution_count": null,
   "metadata": {},
   "outputs": [],
   "source": [
    "group2 = pd.merge(US_group1,BA_FR,how ='outer')"
   ]
  },
  {
   "cell_type": "code",
   "execution_count": null,
   "metadata": {},
   "outputs": [],
   "source": [
    "group3= pd.merge(HO_JA,MA_SA,how ='outer')"
   ]
  },
  {
   "cell_type": "code",
   "execution_count": null,
   "metadata": {},
   "outputs": [],
   "source": [
    "group2_3 = pd.merge(group2,group3,how ='outer')"
   ]
  },
  {
   "cell_type": "code",
   "execution_count": null,
   "metadata": {},
   "outputs": [],
   "source": [
    "TA_UK_group_2_3 = pd.merge(TA_UK,group2_3,how ='outer')"
   ]
  },
  {
   "cell_type": "code",
   "execution_count": null,
   "metadata": {},
   "outputs": [],
   "source": [
    "TA_UK_group_2_3[\"Country\"].value_counts()"
   ]
  },
  {
   "cell_type": "code",
   "execution_count": null,
   "metadata": {},
   "outputs": [],
   "source": [
    "TA_UK_group_2_3.to_csv(\"CSV_Output/11_country.csv\")"
   ]
  },
  {
   "cell_type": "code",
   "execution_count": null,
   "metadata": {},
   "outputs": [],
   "source": []
  }
 ],
 "metadata": {
  "kernelspec": {
   "display_name": "Python 3",
   "language": "python",
   "name": "python3"
  },
  "language_info": {
   "codemirror_mode": {
    "name": "ipython",
    "version": 3
   },
   "file_extension": ".py",
   "mimetype": "text/x-python",
   "name": "python",
   "nbconvert_exporter": "python",
   "pygments_lexer": "ipython3",
   "version": "3.7.4"
  }
 },
 "nbformat": 4,
 "nbformat_minor": 2
}
